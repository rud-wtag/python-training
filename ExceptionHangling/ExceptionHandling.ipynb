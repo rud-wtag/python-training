{
 "cells": [
  {
   "cell_type": "markdown",
   "metadata": {},
   "source": [
    "##### Examples"
   ]
  },
  {
   "cell_type": "markdown",
   "metadata": {},
   "source": [
    "**Built in exception**"
   ]
  },
  {
   "cell_type": "code",
   "execution_count": 9,
   "metadata": {},
   "outputs": [
    {
     "name": "stdout",
     "output_type": "stream",
     "text": [
      "the value perfect 1\n",
      "== type casting attempt executed ==\n"
     ]
    }
   ],
   "source": [
    "try:\n",
    "  num = int(1)\n",
    "except BaseException as e:\n",
    "  print(\"Invalid integer value provided\", e)\n",
    "else:\n",
    "  print('the value perfect', num)\n",
    "finally:\n",
    "  print('== type casting attempt executed ==')"
   ]
  },
  {
   "cell_type": "code",
   "execution_count": null,
   "metadata": {},
   "outputs": [],
   "source": [
    "try:\n",
    "    num = int(\"abc\")\n",
    "except ValueError:\n",
    "  print(\"Invalid integer value provided\")"
   ]
  },
  {
   "cell_type": "code",
   "execution_count": 10,
   "metadata": {},
   "outputs": [
    {
     "name": "stdout",
     "output_type": "stream",
     "text": [
      "Unsupported operation\n"
     ]
    }
   ],
   "source": [
    "try:\n",
    "    result = \"hello\" / 2\n",
    "except TypeError:\n",
    "    print(\"Unsupported operation\")"
   ]
  },
  {
   "cell_type": "code",
   "execution_count": 11,
   "metadata": {},
   "outputs": [
    {
     "name": "stdout",
     "output_type": "stream",
     "text": [
      "Key not found\n"
     ]
    }
   ],
   "source": [
    "try:\n",
    "  my_dict = {\"a\": 1, \"b\": 2}\n",
    "  value = my_dict[\"c\"]\n",
    "except KeyError:\n",
    "  print(\"Key not found\")\n"
   ]
  },
  {
   "cell_type": "code",
   "execution_count": 12,
   "metadata": {},
   "outputs": [
    {
     "name": "stdout",
     "output_type": "stream",
     "text": [
      "Index out of range\n"
     ]
    }
   ],
   "source": [
    "# Example\n",
    "try:\n",
    "  my_list = [1, 2, 3]\n",
    "  value = my_list[3]\n",
    "except IndexError:\n",
    "  print(\"Index out of range\")\n"
   ]
  },
  {
   "cell_type": "code",
   "execution_count": 13,
   "metadata": {},
   "outputs": [
    {
     "name": "stdout",
     "output_type": "stream",
     "text": [
      "File not found\n"
     ]
    }
   ],
   "source": [
    "try:\n",
    "  with open(\"nonexistent_file.txt\", \"r\") as f:\n",
    "    content = f.read()\n",
    "except FileNotFoundError:\n",
    "  print(\"File not found\")\n"
   ]
  },
  {
   "cell_type": "code",
   "execution_count": 14,
   "metadata": {},
   "outputs": [
    {
     "name": "stdout",
     "output_type": "stream",
     "text": [
      "unsupported operand type(s) for +: 'int' and 'str'\n"
     ]
    }
   ],
   "source": [
    "try:\n",
    "  a=1\n",
    "  b=\"s\"\n",
    "  c=a+b\n",
    "except NameError as ex1:\n",
    "  print(\"The user have not defined the variable\")\n",
    "except Exception as ex:\n",
    "  print(ex)\n",
    "else:\n",
    "  print('passed exceptions')"
   ]
  },
  {
   "cell_type": "markdown",
   "metadata": {},
   "source": [
    "Using else Clause"
   ]
  },
  {
   "cell_type": "code",
   "execution_count": null,
   "metadata": {},
   "outputs": [],
   "source": [
    "# try:\n",
    "#     a=int(input(\"Enter the number 1 \"))\n",
    "#     b=int(input(\"Enter the number 2 \"))\n",
    "#     c=a/b\n",
    "#     d=a*b\n",
    "#     e=a+b\n",
    "# except ValueError:\n",
    "#     print(\"Please enter numbers\")\n",
    "# except NameError:\n",
    "#     print(\"The user have not defined the variable\")\n",
    "# except ZeroDivisionError:\n",
    "#     print(\"Please provide number greater than 0\")\n",
    "# except Exception as ex:\n",
    "#     print(ex)\n",
    "# else:\n",
    "#     print(c)\n",
    "#     print(d)\n",
    "#     print(e)"
   ]
  },
  {
   "cell_type": "markdown",
   "metadata": {},
   "source": [
    "**Custom exception**"
   ]
  },
  {
   "cell_type": "code",
   "execution_count": 15,
   "metadata": {},
   "outputs": [],
   "source": [
    "class CustomException(Exception):\n",
    "  \"\"\"Base class for custom exceptions.\"\"\"\n",
    "  pass"
   ]
  },
  {
   "cell_type": "code",
   "execution_count": 16,
   "metadata": {},
   "outputs": [],
   "source": [
    "class InvalidInputError(CustomException):\n",
    "  \"\"\"Exception raised for invalid input.\"\"\"\n",
    "  def __init__(self, input_value):\n",
    "    self.input_value = input_value\n",
    "    message = f\"Invalid input: {input_value}\"\n",
    "    super().__init__(message)"
   ]
  },
  {
   "cell_type": "code",
   "execution_count": 17,
   "metadata": {},
   "outputs": [],
   "source": [
    "class DatabaseConnectionError(CustomException):\n",
    "  \"\"\"Exception raised for database connection errors.\"\"\"\n",
    "  def __init__(self, db_name):\n",
    "    self.db_name = db_name\n",
    "    message = f\"Error connecting to database: {db_name}\"\n",
    "    super().__init__(message)"
   ]
  },
  {
   "cell_type": "code",
   "execution_count": 18,
   "metadata": {},
   "outputs": [],
   "source": [
    "class APIRequestError(CustomException):\n",
    "  \"\"\"Exception raised for API request failures.\"\"\"\n",
    "  def __init__(self, api_url, status_code):\n",
    "    self.api_url = api_url\n",
    "    self.status_code = status_code\n",
    "    message = f\"Failed to make API request to {api_url}. Status code: {status_code}\"\n",
    "    super().__init__(message)"
   ]
  },
  {
   "cell_type": "code",
   "execution_count": 19,
   "metadata": {},
   "outputs": [],
   "source": [
    "def process_input(value):\n",
    "  if not isinstance(value, int):\n",
    "    raise InvalidInputError(value)\n",
    "  return value * 2\n",
    "\n",
    "def connect_to_database(db_name):\n",
    "  # Simulate a database connection failure\n",
    "  raise DatabaseConnectionError(db_name)\n",
    "\n",
    "def make_api_request(api_url):\n",
    "  # Simulate an API request failure\n",
    "  raise APIRequestError(api_url, 404)"
   ]
  },
  {
   "cell_type": "code",
   "execution_count": 20,
   "metadata": {},
   "outputs": [
    {
     "name": "stdout",
     "output_type": "stream",
     "text": [
      "Error: Invalid input: not an integer\n"
     ]
    }
   ],
   "source": [
    "try:\n",
    "  # Simulate processing input\n",
    "  result = process_input(\"not an integer\")\n",
    "except InvalidInputError as e:\n",
    "  print(f\"Error: {e}\")"
   ]
  },
  {
   "cell_type": "code",
   "execution_count": 21,
   "metadata": {},
   "outputs": [
    {
     "name": "stdout",
     "output_type": "stream",
     "text": [
      "Error: Error connecting to database: example_db\n"
     ]
    }
   ],
   "source": [
    "try:\n",
    "  # Simulate connecting to a database\n",
    "  connect_to_database(\"example_db\")\n",
    "except DatabaseConnectionError as e:\n",
    "  print(f\"Error: {e}\")"
   ]
  },
  {
   "cell_type": "code",
   "execution_count": 22,
   "metadata": {},
   "outputs": [
    {
     "name": "stdout",
     "output_type": "stream",
     "text": [
      "Error: Failed to make API request to https://example.com/api. Status code: 404\n"
     ]
    }
   ],
   "source": [
    "try:\n",
    "  # Simulate making an API request\n",
    "  make_api_request(\"https://example.com/api\")\n",
    "except APIRequestError as e:\n",
    "    print(f\"Error: {e}\")"
   ]
  },
  {
   "cell_type": "markdown",
   "metadata": {
    "jp-MarkdownHeadingCollapsed": true
   },
   "source": [
    "##### Exception handling tree"
   ]
  },
  {
   "cell_type": "markdown",
   "metadata": {},
   "source": [
    "```\n",
    "BaseException\n",
    " ├── BaseExceptionGroup\n",
    " ├── GeneratorExit\n",
    " ├── KeyboardInterrupt\n",
    " ├── SystemExit\n",
    " └── Exception\n",
    "      ├── ArithmeticError\n",
    "      │    ├── FloatingPointError\n",
    "      │    ├── OverflowError\n",
    "      │    └── ZeroDivisionError\n",
    "      ├── AssertionError\n",
    "      ├── AttributeError\n",
    "      ├── BufferError\n",
    "      ├── EOFError\n",
    "      ├── ExceptionGroup [BaseExceptionGroup]\n",
    "      ├── ImportError\n",
    "      │    └── ModuleNotFoundError\n",
    "      ├── LookupError\n",
    "      │    ├── IndexError\n",
    "      │    └── KeyError\n",
    "      ├── MemoryError\n",
    "      ├── NameError\n",
    "      │    └── UnboundLocalError\n",
    "      ├── OSError\n",
    "      │    ├── BlockingIOError\n",
    "      │    ├── ChildProcessError\n",
    "      │    ├── ConnectionError\n",
    "      │    │    ├── BrokenPipeError\n",
    "      │    │    ├── ConnectionAbortedError\n",
    "      │    │    ├── ConnectionRefusedError\n",
    "      │    │    └── ConnectionResetError\n",
    "      │    ├── FileExistsError\n",
    "      │    ├── FileNotFoundError\n",
    "      │    ├── InterruptedError\n",
    "      │    ├── IsADirectoryError\n",
    "      │    ├── NotADirectoryError\n",
    "      │    ├── PermissionError\n",
    "      │    ├── ProcessLookupError\n",
    "      │    └── TimeoutError\n",
    "      ├── ReferenceError\n",
    "      ├── RuntimeError\n",
    "      │    ├── NotImplementedError\n",
    "      │    └── RecursionError\n",
    "      ├── StopAsyncIteration\n",
    "      ├── StopIteration\n",
    "      ├── SyntaxError\n",
    "      │    └── IndentationError\n",
    "      │         └── TabError\n",
    "      ├── SystemError\n",
    "      ├── TypeError\n",
    "      ├── ValueError\n",
    "      │    └── UnicodeError\n",
    "      │         ├── UnicodeDecodeError\n",
    "      │         ├── UnicodeEncodeError\n",
    "      │         └── UnicodeTranslateError\n",
    "      └── Warning\n",
    "           ├── BytesWarning\n",
    "           ├── DeprecationWarning\n",
    "           ├── EncodingWarning\n",
    "           ├── FutureWarning\n",
    "           ├── ImportWarning\n",
    "           ├── PendingDeprecationWarning\n",
    "           ├── ResourceWarning\n",
    "           ├── RuntimeWarning\n",
    "           ├── SyntaxWarning\n",
    "           ├── UnicodeWarning\n",
    "           └── UserWarning\n",
    "```"
   ]
  },
  {
   "cell_type": "markdown",
   "metadata": {},
   "source": [
    "```python\n",
    "try:\n",
    "    # Some Code.... \n",
    "\n",
    "except:\n",
    "    # optional block\n",
    "    # Handling of exception (if required)\n",
    "\n",
    "else:\n",
    "    # execute if no exception\n",
    "\n",
    "finally:\n",
    "    # Some code .....(always executed)\n",
    "```"
   ]
  },
  {
   "cell_type": "markdown",
   "metadata": {},
   "source": [
    "#### Some theories"
   ]
  },
  {
   "cell_type": "markdown",
   "metadata": {},
   "source": [
    "**Exception class**\n",
    "\n",
    "All built-in, non-system-exiting exceptions are derived from this class. All user-defined exceptions should also be derived from this class."
   ]
  },
  {
   "cell_type": "markdown",
   "metadata": {
    "jp-MarkdownHeadingCollapsed": true
   },
   "source": [
    "##### Why we will use exception handling instead making it able to run without exception"
   ]
  },
  {
   "cell_type": "markdown",
   "metadata": {},
   "source": [
    "**Code snippet 1**\n",
    "``` python\n",
    "connection = create_connection(db, host, user, password)\n",
    "\n",
    "# Later in your code...\n",
    "if connection.is_active():\n",
    "    # Update your database here...\n",
    "    connection.commit()\n",
    "else:\n",
    "    # Handle the connection error here...\n",
    "```"
   ]
  },
  {
   "cell_type": "markdown",
   "metadata": {},
   "source": [
    "**Code snippet 1**\n",
    "\n",
    "```python\n",
    "connection = create_connection(db, host, user, password)\n",
    "\n",
    "# Later in your code...\n",
    "try:\n",
    "    # Update your database here...\n",
    "    connection.commit()\n",
    "except ConnectionError:\n",
    "    # Handle the connection error here...\n",
    "```"
   ]
  }
 ],
 "metadata": {
  "kernelspec": {
   "display_name": "Python 3 (ipykernel)",
   "language": "python",
   "name": "python3"
  },
  "language_info": {
   "codemirror_mode": {
    "name": "ipython",
    "version": 3
   },
   "file_extension": ".py",
   "mimetype": "text/x-python",
   "name": "python",
   "nbconvert_exporter": "python",
   "pygments_lexer": "ipython3",
   "version": "3.12.2"
  }
 },
 "nbformat": 4,
 "nbformat_minor": 4
}
