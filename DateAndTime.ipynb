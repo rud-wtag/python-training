{
 "cells": [
  {
   "cell_type": "markdown",
   "metadata": {},
   "source": [
    "# Date and Time Handling in Python\n",
    "\n",
    "In Python, the `datetime` module provides classes for manipulating dates and times. This notebook covers basic to advanced usage of the `datetime` module."
   ]
  },
  {
   "cell_type": "markdown",
   "metadata": {},
   "source": [
    "## Importing the datetime Module\n",
    "\n",
    "Let's start by importing the `datetime` module."
   ]
  },
  {
   "cell_type": "code",
   "execution_count": 1,
   "metadata": {},
   "outputs": [],
   "source": [
    "import datetime"
   ]
  },
  {
   "cell_type": "markdown",
   "metadata": {},
   "source": [
    "## Creating Date Objects\n",
    "\n",
    "You can create date objects using the `datetime.date()` constructor, specifying the year, month, and day."
   ]
  },
  {
   "cell_type": "code",
   "execution_count": 2,
   "metadata": {},
   "outputs": [
    {
     "name": "stdout",
     "output_type": "stream",
     "text": [
      "2022-03-14\n"
     ]
    }
   ],
   "source": [
    "# Creating a date object\n",
    "my_date = datetime.date(2022, 3, 14)\n",
    "print(my_date)"
   ]
  },
  {
   "cell_type": "markdown",
   "metadata": {},
   "source": [
    "## Working with Date Objects\n",
    "\n",
    "You can perform various operations on date objects, such as arithmetic, formatting, and comparison."
   ]
  },
  {
   "cell_type": "code",
   "execution_count": 3,
   "metadata": {},
   "outputs": [],
   "source": [
    "# Arithmetic with dates\n",
    "tomorrow = my_date + datetime.timedelta(days=1)\n",
    "print(tomorrow)"
   ]
  },
  {
   "cell_type": "code",
   "execution_count": 4,
   "metadata": {},
   "outputs": [],
   "source": [
    "# Formatting dates\n",
    "formatted_date = my_date.strftime('%Y-%m-%d')\n",
    "print(formatted_date)"
   ]
  },
  {
   "cell_type": "code",
   "execution_count": 5,
   "metadata": {},
   "outputs": [],
   "source": [
    "# Comparison of dates\n",
    "if my_date < tomorrow:\n",
    "    print('Tomorrow is greater than today')"
   ]
  },
  {
   "cell_type": "markdown",
   "metadata": {},
   "source": [
    "## Creating Time Objects\n",
    "\n",
    "You can create time objects using the `datetime.time()` constructor, specifying the hour, minute, second, and microsecond."
   ]
  },
  {
   "cell_type": "code",
   "execution_count": 6,
   "metadata": {},
   "outputs": [],
   "source": [
    "# Creating a time object\n",
    "my_time = datetime.time(12, 30, 45)\n",
    "print(my_time)"
   ]
  },
  {
   "cell_type": "markdown",
   "metadata": {},
   "source": [
    "## Creating DateTime Objects\n",
    "\n",
    "You can create datetime objects using the `datetime.datetime()` constructor, specifying the year, month, day, hour, minute, second, and microsecond."
   ]
  },
  {
   "cell_type": "code",
   "execution_count": 7,
   "metadata": {},
   "outputs": [],
   "source": [
    "# Creating a datetime object\n",
    "my_datetime = datetime.datetime(2022, 3, 14, 12, 30, 45)\n",
    "print(my_datetime)"
   ]
  },
  {
   "cell_type": "markdown",
   "metadata": {},
   "source": [
    "## Current Date and Time\n",
    "\n",
    "You can obtain the current date and time using the `datetime.now()` method."
   ]
  },
  {
   "cell_type": "code",
   "execution_count": 8,
   "metadata": {},
   "outputs": [],
   "source": [
    "# Current date and time\n",
    "current_datetime = datetime.datetime.now()\n",
    "print(current_datetime)"
   ]
  },
  {
   "cell_type": "markdown",
   "metadata": {},
   "source": [
    "## Timezone Handling\n",
    "\n",
    "Python's `datetime` module does not provide built-in timezone support. However, you can use third-party libraries like `pytz` for timezone handling."
   ]
  },
  {
   "cell_type": "markdown",
   "metadata": {},
   "source": [
    "## Summary\n",
    "\n",
    "This notebook covered basic to advanced usage of the `datetime` module in Python, including creating date, time, and datetime objects, performing arithmetic and formatting operations, comparison, obtaining current date and time, and handling timezones."
   ]
  }
 ],
 "metadata": {
  "kernelspec": {
   "display_name": "Python 3",
   "language": "python",
   "name": "python3"
  },
  "language_info": {
   "codemirror_mode": {
    "name": "ipython",
    "version": 3
   },
   "file_extension": ".py",
   "mimetype": "text/x-python",
   "name": "python",
   "nbconvert_exporter": "python",
   "pygments_lexer": "ipython3",
   "version": "3.12.2"
  }
 },
 "nbformat": 4,
 "nbformat_minor": 2
}
