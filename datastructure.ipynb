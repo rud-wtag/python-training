{
 "cells": [
  {
   "cell_type": "markdown",
   "metadata": {},
   "source": [
    "# Data Structure Implementations in Python\n",
    "\n",
    "This notebook covers beginner to expert examples of data structure implementations in Python."
   ]
  },
  {
   "cell_type": "markdown",
   "metadata": {},
   "source": [
    "## 1. Lists\n",
    "\n",
    "### Beginner Example\n",
    "\n",
    "Example: Creating a list, accessing elements, adding elements, removing elements, and iterating through the list."
   ]
  },
  {
   "cell_type": "code",
   "execution_count": 1,
   "metadata": {},
   "outputs": [],
   "source": [
    "# Beginner Example: Lists\n",
    "# Create a list\n",
    "my_list = [1, 2, 3, 4, 5]\n",
    "\n",
    "# Access elements\n",
    "print(my_list[0])\n",
    "\n",
    "# Add elements\n",
    "my_list.append(6)\n",
    "\n",
    "# Remove elements\n",
    "my_list.remove(3)\n",
    "\n",
    "# Iterate through the list\n",
    "for item in my_list:\n",
    "    print(item)"
   ]
  },
  {
   "cell_type": "markdown",
   "metadata": {},
   "source": [
    "### Intermediate Example\n",
    "\n",
    "Example: Using list comprehensions, slicing, and built-in functions like `map`, `filter`, and `reduce`."
   ]
  },
  {
   "cell_type": "code",
   "execution_count": 2,
   "metadata": {},
   "outputs": [],
   "source": [
    "# Intermediate Example: Lists\n",
    "# List comprehensions\n",
    "squared = [x**2 for x in range(10)]\n",
    "\n",
    "# Slicing\n",
    "subset = my_list[1:4]\n",
    "\n",
    "# Map\n",
    "mapped_list = list(map(lambda x: x*2, my_list))\n",
    "\n",
    "# Filter\n",
    "filtered_list = list(filter(lambda x: x % 2 == 0, my_list))"
   ]
  },
  {
   "cell_type": "markdown",
   "metadata": {},
   "source": [
    "### Expert Example\n",
    "\n",
    "Example: Implementing a custom linked list class with various operations like insertion, deletion, searching, and traversing."
   ]
  },
  {
   "cell_type": "code",
   "execution_count": 3,
   "metadata": {},
   "outputs": [],
   "source": [
    "# Expert Example: Custom Linked List\n",
    "class Node:\n",
    "    def __init__(self, data=None):\n",
    "        self.data = data\n",
    "        self.next = None\n",
    "\n",
    "class LinkedList:\n",
    "    def __init__(self):\n",
    "        self.head = None\n",
    "\n",
    "    def insert(self, data):\n",
    "        new_node = Node(data)\n",
    "        if self.head is None:\n",
    "            self.head = new_node\n",
    "            return\n",
    "        last_node = self.head\n",
    "        while last_node.next:\n",
    "            last_node = last_node.next\n",
    "        last_node.next = new_node\n",
    "\n",
    "    def delete(self, key):\n",
    "        temp = self.head\n",
    "        if temp is not None:\n",
    "            if temp.data == key:\n",
    "                self.head = temp.next\n",
    "                temp = None\n",
    "                return\n",
    "        while temp is not None:\n",
    "            if temp.data == key:\n",
    "                break\n",
    "            prev = temp\n",
    "            temp = temp.next\n",
    "        if temp == None:\n",
    "            return\n",
    "        prev.next = temp.next\n",
    "        temp = None\n",
    "\n",
    "    def search(self, key):\n",
    "        temp = self.head\n",
    "        while temp:\n",
    "            if temp.data == key:\n",
    "                return True\n",
    "            temp = temp.next\n",
    "        return False\n",
    "\n",
    "    def traverse(self):\n",
    "        temp = self.head\n",
    "        while temp:\n",
    "            print(temp.data)\n",
    "            temp = temp.next\n"
   ]
  },
  {
   "cell_type": "markdown",
   "metadata": {},
   "source": [
    "## 2. Arrays\n",
    "\n",
    "### Beginner Example\n",
    "\n",
    "Example: Creating arrays using `array` module, accessing elements, and performing basic operations."
   ]
  },
  {
   "cell_type": "code",
   "execution_count": 4,
   "metadata": {},
   "outputs": [],
   "source": [
    "# Beginner Example: Arrays\n",
    "from array import array\n",
    "\n",
    "# Create an array\n",
    "my_array = array('i', [1, 2, 3, 4, 5])\n",
    "\n",
    "# Access elements\n",
    "print(my_array[0])\n",
    "\n",
    "# Append elements\n",
    "my_array.append(6)\n",
    "\n",
    "# Remove elements (not supported, requires converting to list)\n",
    "# my_array.remove(3)\n",
    "\n",
    "# Iterate through the array\n",
    "for item in my_array:\n",
    "    print(item)"
   ]
  },
  {
   "cell_type": "markdown",
   "metadata": {},
   "source": [
    "### Intermediate Example\n",
    "\n",
    "Example: Implementing matrix operations using nested lists or NumPy arrays."
   ]
  },
  {
   "cell_type": "code",
   "execution_count": 5,
   "metadata": {},
   "outputs": [],
   "source": [
    "# Intermediate Example: Arrays\n",
    "# Matrix operations using nested lists\n",
    "matrix = [[1, 2, 3],\n",
    "          [4, 5, 6],\n",
    "          [7, 8, 9]]\n",
    "\n",
    "# Accessing elements\n",
    "print(matrix[1][2])  # Output: 6\n",
    "\n",
    "# NumPy arrays for efficient matrix operations\n",
    "import numpy as np\n",
    "\n",
    "# Create a NumPy array\n",
    "np_matrix = np.array(matrix)\n",
    "\n",
    "# Matrix multiplication using NumPy\n",
    "result = np.dot(np_matrix, np_matrix)\n",
    "print(result)"
   ]
  },
  {
   "cell_type": "markdown",
   "metadata": {},
   "source": [
    "### Expert Example\n",
    "\n",
    "Example: Implementing a dynamic array (similar to Python's list) with resizing and memory management."
   ]
  },
  {
   "cell_type": "code",
   "execution_count": 6,
   "metadata": {},
   "outputs": [],
   "source": [
    "# Expert Example: Dynamic Array\n",
    "import ctypes\n",
    "\n",
    "class DynamicArray:\n",
    "    def __init__(self):\n",
    "        self.capacity = 1\n",
    "        self.length = 0\n",
    "        self.array = self.make_array(self.capacity)\n",
    "\n",
    "    def __len__(self):\n",
    "        return self.length\n",
    "\n",
    "    def __getitem__(self, index):\n",
    "        if not 0 <= index < self.length:\n",
    "            return IndexError('Index out of bounds')\n",
    "        return self.array[index]\n",
    "\n",
    "    def append(self, element):\n",
    "        if self.length == self.capacity:\n",
    "            self.resize(2 * self.capacity)\n",
    "        self.array[self.length] = element\n",
    "        self.length += 1\n",
    "\n",
    "    def resize(self, new_capacity):\n",
    "        new_array = self.make_array(new_capacity)\n",
    "        for i in range(self.length):\n",
    "            new_array[i] = self.array[i]\n",
    "        self.array = new_array\n",
    "        self.capacity = new_capacity\n",
    "\n",
    "    def make_array(self, capacity):\n",
    "        return (capacity * ctypes.py_object)()\n"
   ]
  },
  {
   "cell_type": "markdown",
   "metadata": {},
   "source": [
    "## 3. Stacks\n",
    "\n",
    "### Beginner Example\n",
    "\n",
    "Example: Implementing a stack using a Python list."
   ]
  },
  {
   "cell_type": "code",
   "execution_count": 7,
   "metadata": {},
   "outputs": [],
   "source": [
    "# Beginner Example: Stacks\n",
    "class Stack:\n",
    "    def __init__(self):\n",
    "        self.items = []\n",
    "\n",
    "    def is_empty(self):\n",
    "        return self.items == []\n",
    "\n",
    "    def push(self, item):\n",
    "        self.items.append(item)\n",
    "\n",
    "    def pop(self):\n",
    "        return self.items.pop()\n",
    "\n",
    "    def peek(self):\n",
    "        return self.items[-1]\n",
    "\n",
    "    def size(self):\n",
    "        return len(self.items)\n"
   ]
  },
  {
   "cell_type": "markdown",
   "metadata": {},
   "source": [
    "### Intermediate Example\n",
    "\n",
    "Example: Using a stack to implement a simple expression evaluator."
   ]
  }
 ],
 "metadata": {
  "language_info": {
   "name": "python"
  }
 },
 "nbformat": 4,
 "nbformat_minor": 2
}
